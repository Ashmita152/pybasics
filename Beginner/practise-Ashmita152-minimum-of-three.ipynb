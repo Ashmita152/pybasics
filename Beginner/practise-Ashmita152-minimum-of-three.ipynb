{
 "cells": [
  {
   "cell_type": "code",
   "execution_count": 11,
   "metadata": {
    "collapsed": false
   },
   "outputs": [
    {
     "name": "stdout",
     "output_type": "stream",
     "text": [
      "-8544927\n",
      "-2495802\n",
      "-8742321\n",
      "-2407696\n",
      "-5097315\n",
      "329844\n",
      "2405514\n",
      "-5015537\n",
      "-811784\n",
      "-4197552\n",
      "2081531\n",
      "-8339401\n",
      "-7153816\n",
      "-9713627\n",
      "-1333237\n",
      "-8306590\n",
      "-9491893\n",
      "-5571233\n",
      "4095643\n",
      "-5889107\n",
      "-5656239\n",
      "3339794\n"
     ]
    }
   ],
   "source": [
    "array = [\n",
    "[3992148, 6365956, 6153145],\n",
    "[-6672999, 2552094, 7596389],\n",
    "[-1861153, -3223593, 5438069],\n",
    "[7720733, 6704697 ,-7872601],\n",
    "[4326712 ,-8789399 ,-8892214],\n",
    "[-7786617, 7694139, -9328410],\n",
    "[8347120 ,9823562 ,-4342310],\n",
    "[-4574667, -5909335, -9154809],\n",
    "[3152854, 5963622, 1850950],\n",
    "[7232611, 3219651 ,1025377],\n",
    "[-6758088, -2788201, -2608667],\n",
    "[9395056, 538800 ,9943426],\n",
    "[6991446, 8677646, -3280166],\n",
    "[2429515, 6398379, -6575469],\n",
    "[4556914, 725092 ,-5364868],\n",
    "[5664700, 2938474 ,-7670729],\n",
    "[6336289, 1285594 -7847167],\n",
    "[-8006021, 6710926 -3756503],\n",
    "[-7160830, -136219 -7792880],\n",
    "[4690120, -2903607 5426771],\n",
    "[-4284502, 338304 -7361430],\n",
    "[3106830, -266639 3177370],\n",
    "[3050257, -3275193 1855016]\n",
    "    \n",
    "]\n",
    "\n",
    "for i in range(0,len(array)):\n",
    "\n",
    "    if (array[i][0] < array[i][1]) & (array[i][0] < array[i][2]):\n",
    "        \n",
    "            print (array[i][0])\n",
    "    elif (array[i][1] < array[i][0]) & (array[i][1] < array[i][2]):\n",
    "        \n",
    "            print (array[i][1])\n",
    "    else:\n",
    "        print (array[i][2])"
   ]
  },
  {
   "cell_type": "code",
   "execution_count": null,
   "metadata": {
    "collapsed": true
   },
   "outputs": [],
   "source": []
  },
  {
   "cell_type": "code",
   "execution_count": null,
   "metadata": {
    "collapsed": true
   },
   "outputs": [],
   "source": []
  }
 ],
 "metadata": {
  "kernelspec": {
   "display_name": "Python 3",
   "language": "python",
   "name": "python3"
  },
  "language_info": {
   "codemirror_mode": {
    "name": "ipython",
    "version": 3
   },
   "file_extension": ".py",
   "mimetype": "text/x-python",
   "name": "python",
   "nbconvert_exporter": "python",
   "pygments_lexer": "ipython3",
   "version": "3.6.0"
  }
 },
 "nbformat": 4,
 "nbformat_minor": 2
}
