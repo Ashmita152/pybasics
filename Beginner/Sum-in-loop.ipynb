{
 "cells": [
  {
   "cell_type": "code",
   "execution_count": 3,
   "metadata": {
    "collapsed": false
   },
   "outputs": [
    {
     "name": "stdout",
     "output_type": "stream",
     "text": [
      "26472\n"
     ]
    }
   ],
   "source": [
    "sum =  [ 652 ,999 ,304, 284, 911, 1226, 845, 241, \n",
    "       1234 ,352, 456, 185, 82, 696, 554,\n",
    "       969, 1016, 906, 837, 380, 769, 726, 807, 225,\n",
    "       737, 1299, 1282, 789, 1109, 1220, 61, 460, 918,\n",
    "       356 ,735, 529, 282, 279, 760]\n",
    "add = 0\n",
    "for i  in range(0,len(sum)):\n",
    "    add += sum[i]\n",
    "print (add)"
   ]
  }
 ],
 "metadata": {
  "kernelspec": {
   "display_name": "Python 3",
   "language": "python",
   "name": "python3"
  },
  "language_info": {
   "codemirror_mode": {
    "name": "ipython",
    "version": 3
   },
   "file_extension": ".py",
   "mimetype": "text/x-python",
   "name": "python",
   "nbconvert_exporter": "python",
   "pygments_lexer": "ipython3",
   "version": "3.6.0"
  }
 },
 "nbformat": 4,
 "nbformat_minor": 2
}
