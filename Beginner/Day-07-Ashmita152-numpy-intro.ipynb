{
 "cells": [
  {
   "cell_type": "markdown",
   "metadata": {},
   "source": [
    "# Day 7\n",
    "\n",
    "- Numpy intro\n",
    "- List Comrehension"
   ]
  },
  {
   "cell_type": "code",
   "execution_count": 1,
   "metadata": {
    "collapsed": true
   },
   "outputs": [],
   "source": [
    "import numpy as np\n"
   ]
  },
  {
   "cell_type": "code",
   "execution_count": 3,
   "metadata": {
    "collapsed": false
   },
   "outputs": [
    {
     "data": {
      "text/plain": [
       "-0.98803162409286183"
      ]
     },
     "execution_count": 3,
     "metadata": {},
     "output_type": "execute_result"
    }
   ],
   "source": [
    "np.sin(30)"
   ]
  },
  {
   "cell_type": "code",
   "execution_count": 4,
   "metadata": {
    "collapsed": false
   },
   "outputs": [
    {
     "data": {
      "text/plain": [
       "[0.0,\n",
       " 0.8414709848078965,\n",
       " 0.90929742682568171,\n",
       " 0.14112000805986721,\n",
       " -0.7568024953079282,\n",
       " -0.95892427466313845,\n",
       " -0.27941549819892586,\n",
       " 0.65698659871878906,\n",
       " 0.98935824662338179,\n",
       " 0.41211848524175659,\n",
       " -0.54402111088936989,\n",
       " -0.99999020655070348,\n",
       " -0.53657291800043494,\n",
       " 0.42016703682664092,\n",
       " 0.99060735569487035,\n",
       " 0.65028784015711694,\n",
       " -0.2879033166650653,\n",
       " -0.96139749187955681,\n",
       " -0.75098724677167605,\n",
       " 0.14987720966295234,\n",
       " 0.91294525072762767,\n",
       " 0.83665563853605596,\n",
       " -0.0088513092904038762,\n",
       " -0.84622040417517064,\n",
       " -0.90557836200662389,\n",
       " -0.13235175009777303,\n",
       " 0.7625584504796028,\n",
       " 0.95637592840450303,\n",
       " 0.27090578830786904,\n",
       " -0.66363388421296754,\n",
       " -0.98803162409286183,\n",
       " -0.40403764532306502,\n",
       " 0.55142668124169059,\n",
       " 0.99991186010726718,\n",
       " 0.52908268612002385,\n",
       " -0.42818266949615102,\n",
       " -0.99177885344311578,\n",
       " -0.64353813335699939,\n",
       " 0.29636857870938532,\n",
       " 0.96379538628408779,\n",
       " 0.74511316047934883,\n",
       " -0.15862266880470899,\n",
       " -0.91652154791563378,\n",
       " -0.8317747426285983,\n",
       " 0.017701925105413577,\n",
       " 0.85090352453411844,\n",
       " 0.90178834764880922,\n",
       " 0.123573122745224,\n",
       " -0.76825466132366682,\n",
       " -0.95375265275947185,\n",
       " -0.26237485370392877,\n",
       " 0.67022917584337471,\n",
       " 0.98662759204048534,\n",
       " 0.39592515018183422,\n",
       " -0.55878904885161618,\n",
       " -0.99975517335861985,\n",
       " -0.52155100208691185,\n",
       " 0.43616475524782494,\n",
       " 0.99287264808453712,\n",
       " 0.63673800713913786,\n",
       " -0.30481062110221668,\n",
       " -0.96611777000839294,\n",
       " -0.73918069664922292,\n",
       " 0.16735570030280694,\n",
       " 0.92002603819679074,\n",
       " 0.82682867949010352,\n",
       " -0.026551154023966794,\n",
       " -0.85551997897532228,\n",
       " -0.8979276806892913,\n",
       " -0.11478481378318722,\n",
       " 0.77389068155788909,\n",
       " 0.95105465325437466,\n",
       " 0.25382336276203626,\n",
       " -0.67677195688730762,\n",
       " -0.98514626046824738,\n",
       " -0.38778163540943045,\n",
       " 0.56610763689818033,\n",
       " 0.99952015858073129,\n",
       " 0.51397845598753522,\n",
       " -0.44411266870750837,\n",
       " -0.99388865392337522,\n",
       " -0.62988799427445397,\n",
       " 0.31322878243308516,\n",
       " 0.96836446110018537,\n",
       " 0.7331903200732921,\n",
       " -0.17607561994858709,\n",
       " -0.92345844700405977,\n",
       " -0.82181783663082253,\n",
       " 0.035398302733660687,\n",
       " 0.86006940581245328,\n",
       " 0.89399666360055785]"
      ]
     },
     "execution_count": 4,
     "metadata": {},
     "output_type": "execute_result"
    }
   ],
   "source": [
    "calculate = []\n",
    "for deg in range(0, 91):\n",
    "    calculate.append(np.sin(deg))\n",
    "calculate"
   ]
  },
  {
   "cell_type": "code",
   "execution_count": 6,
   "metadata": {
    "collapsed": false
   },
   "outputs": [
    {
     "data": {
      "text/plain": [
       "[0.0,\n",
       " 0.8414709848078965,\n",
       " 0.90929742682568171,\n",
       " 0.14112000805986721,\n",
       " -0.7568024953079282,\n",
       " -0.95892427466313845,\n",
       " -0.27941549819892586,\n",
       " 0.65698659871878906,\n",
       " 0.98935824662338179,\n",
       " 0.41211848524175659,\n",
       " -0.54402111088936989,\n",
       " -0.99999020655070348,\n",
       " -0.53657291800043494,\n",
       " 0.42016703682664092,\n",
       " 0.99060735569487035,\n",
       " 0.65028784015711694,\n",
       " -0.2879033166650653,\n",
       " -0.96139749187955681,\n",
       " -0.75098724677167605,\n",
       " 0.14987720966295234,\n",
       " 0.91294525072762767,\n",
       " 0.83665563853605596,\n",
       " -0.0088513092904038762,\n",
       " -0.84622040417517064,\n",
       " -0.90557836200662389,\n",
       " -0.13235175009777303,\n",
       " 0.7625584504796028,\n",
       " 0.95637592840450303,\n",
       " 0.27090578830786904,\n",
       " -0.66363388421296754,\n",
       " -0.98803162409286183,\n",
       " -0.40403764532306502,\n",
       " 0.55142668124169059,\n",
       " 0.99991186010726718,\n",
       " 0.52908268612002385,\n",
       " -0.42818266949615102,\n",
       " -0.99177885344311578,\n",
       " -0.64353813335699939,\n",
       " 0.29636857870938532,\n",
       " 0.96379538628408779,\n",
       " 0.74511316047934883,\n",
       " -0.15862266880470899,\n",
       " -0.91652154791563378,\n",
       " -0.8317747426285983,\n",
       " 0.017701925105413577,\n",
       " 0.85090352453411844,\n",
       " 0.90178834764880922,\n",
       " 0.123573122745224,\n",
       " -0.76825466132366682,\n",
       " -0.95375265275947185,\n",
       " -0.26237485370392877,\n",
       " 0.67022917584337471,\n",
       " 0.98662759204048534,\n",
       " 0.39592515018183422,\n",
       " -0.55878904885161618,\n",
       " -0.99975517335861985,\n",
       " -0.52155100208691185,\n",
       " 0.43616475524782494,\n",
       " 0.99287264808453712,\n",
       " 0.63673800713913786,\n",
       " -0.30481062110221668,\n",
       " -0.96611777000839294,\n",
       " -0.73918069664922292,\n",
       " 0.16735570030280694,\n",
       " 0.92002603819679074,\n",
       " 0.82682867949010352,\n",
       " -0.026551154023966794,\n",
       " -0.85551997897532228,\n",
       " -0.8979276806892913,\n",
       " -0.11478481378318722,\n",
       " 0.77389068155788909,\n",
       " 0.95105465325437466,\n",
       " 0.25382336276203626,\n",
       " -0.67677195688730762,\n",
       " -0.98514626046824738,\n",
       " -0.38778163540943045,\n",
       " 0.56610763689818033,\n",
       " 0.99952015858073129,\n",
       " 0.51397845598753522,\n",
       " -0.44411266870750837,\n",
       " -0.99388865392337522,\n",
       " -0.62988799427445397,\n",
       " 0.31322878243308516,\n",
       " 0.96836446110018537,\n",
       " 0.7331903200732921,\n",
       " -0.17607561994858709,\n",
       " -0.92345844700405977,\n",
       " -0.82181783663082253,\n",
       " 0.035398302733660687,\n",
       " 0.86006940581245328,\n",
       " 0.89399666360055785]"
      ]
     },
     "execution_count": 6,
     "metadata": {},
     "output_type": "execute_result"
    }
   ],
   "source": [
    "calculate2 = [np.sin(deg) for deg in range(0,91)]\n",
    "calculate2"
   ]
  },
  {
   "cell_type": "markdown",
   "metadata": {},
   "source": [
    "list comprehension maa first maa first for loop maa jaane\n",
    "\n",
    "for vanda pahila ko lai evaluate garcha ani append garcha"
   ]
  },
  {
   "cell_type": "code",
   "execution_count": 7,
   "metadata": {
    "collapsed": false
   },
   "outputs": [
    {
     "data": {
      "text/plain": [
       "array([ 0.        ,  0.84147098,  0.90929743,  0.14112001, -0.7568025 ,\n",
       "       -0.95892427, -0.2794155 ,  0.6569866 ,  0.98935825,  0.41211849,\n",
       "       -0.54402111, -0.99999021, -0.53657292,  0.42016704,  0.99060736,\n",
       "        0.65028784, -0.28790332, -0.96139749, -0.75098725,  0.14987721,\n",
       "        0.91294525,  0.83665564, -0.00885131, -0.8462204 , -0.90557836,\n",
       "       -0.13235175,  0.76255845,  0.95637593,  0.27090579, -0.66363388,\n",
       "       -0.98803162, -0.40403765,  0.55142668,  0.99991186,  0.52908269,\n",
       "       -0.42818267, -0.99177885, -0.64353813,  0.29636858,  0.96379539,\n",
       "        0.74511316, -0.15862267, -0.91652155, -0.83177474,  0.01770193,\n",
       "        0.85090352,  0.90178835,  0.12357312, -0.76825466, -0.95375265,\n",
       "       -0.26237485,  0.67022918,  0.98662759,  0.39592515, -0.55878905,\n",
       "       -0.99975517, -0.521551  ,  0.43616476,  0.99287265,  0.63673801,\n",
       "       -0.30481062, -0.96611777, -0.7391807 ,  0.1673557 ,  0.92002604,\n",
       "        0.82682868, -0.02655115, -0.85551998, -0.89792768, -0.11478481,\n",
       "        0.77389068,  0.95105465,  0.25382336, -0.67677196, -0.98514626,\n",
       "       -0.38778164,  0.56610764,  0.99952016,  0.51397846, -0.44411267,\n",
       "       -0.99388865, -0.62988799,  0.31322878,  0.96836446,  0.73319032,\n",
       "       -0.17607562, -0.92345845, -0.82181784,  0.0353983 ,  0.86006941,\n",
       "        0.89399666])"
      ]
     },
     "execution_count": 7,
     "metadata": {},
     "output_type": "execute_result"
    }
   ],
   "source": [
    "np.sin(range(0,91))"
   ]
  },
  {
   "cell_type": "code",
   "execution_count": 8,
   "metadata": {
    "collapsed": false
   },
   "outputs": [
    {
     "data": {
      "text/plain": [
       "array([ 0.        ,  0.84147098,  0.90929743,  0.14112001, -0.7568025 ,\n",
       "       -0.95892427, -0.2794155 ,  0.6569866 ,  0.98935825,  0.41211849,\n",
       "       -0.54402111, -0.99999021, -0.53657292,  0.42016704,  0.99060736,\n",
       "        0.65028784, -0.28790332, -0.96139749, -0.75098725,  0.14987721,\n",
       "        0.91294525,  0.83665564, -0.00885131, -0.8462204 , -0.90557836,\n",
       "       -0.13235175,  0.76255845,  0.95637593,  0.27090579, -0.66363388,\n",
       "       -0.98803162, -0.40403765,  0.55142668,  0.99991186,  0.52908269,\n",
       "       -0.42818267, -0.99177885, -0.64353813,  0.29636858,  0.96379539,\n",
       "        0.74511316, -0.15862267, -0.91652155, -0.83177474,  0.01770193,\n",
       "        0.85090352,  0.90178835,  0.12357312, -0.76825466, -0.95375265,\n",
       "       -0.26237485,  0.67022918,  0.98662759,  0.39592515, -0.55878905,\n",
       "       -0.99975517, -0.521551  ,  0.43616476,  0.99287265,  0.63673801,\n",
       "       -0.30481062, -0.96611777, -0.7391807 ,  0.1673557 ,  0.92002604,\n",
       "        0.82682868, -0.02655115, -0.85551998, -0.89792768, -0.11478481,\n",
       "        0.77389068,  0.95105465,  0.25382336, -0.67677196, -0.98514626,\n",
       "       -0.38778164,  0.56610764,  0.99952016,  0.51397846, -0.44411267,\n",
       "       -0.99388865, -0.62988799,  0.31322878,  0.96836446,  0.73319032,\n",
       "       -0.17607562, -0.92345845, -0.82181784,  0.0353983 ,  0.86006941,\n",
       "        0.89399666])"
      ]
     },
     "execution_count": 8,
     "metadata": {},
     "output_type": "execute_result"
    }
   ],
   "source": [
    "np.sin([deg for deg in range(0,91)])  #broadcast function,kunai pani function maa array \n",
    "                                      #pass garyo vane each item maa tyo function laaagcha"
   ]
  },
  {
   "cell_type": "code",
   "execution_count": 12,
   "metadata": {
    "collapsed": false
   },
   "outputs": [
    {
     "name": "stdout",
     "output_type": "stream",
     "text": [
      "1000 loops, best of 3: 187 µs per loop\n"
     ]
    }
   ],
   "source": [
    "%timeit [np.sin(deg) for deg in range(0,91)]"
   ]
  },
  {
   "cell_type": "code",
   "execution_count": 11,
   "metadata": {
    "collapsed": false
   },
   "outputs": [
    {
     "name": "stdout",
     "output_type": "stream",
     "text": [
      "10000 loops, best of 3: 20.8 µs per loop\n"
     ]
    }
   ],
   "source": [
    "%timeit np.sin([deg for deg in range(0,91)])"
   ]
  },
  {
   "cell_type": "markdown",
   "metadata": {},
   "source": [
    "# Problem - word count"
   ]
  },
  {
   "cell_type": "code",
   "execution_count": 14,
   "metadata": {
    "collapsed": true
   },
   "outputs": [],
   "source": [
    "paragraph = \"\"\"\n",
    "It is a truth universally acknowledged, that a single man in possession\n",
    "of a good fortune, must be in want of a wife.\n",
    "\n",
    "However little known the feelings or views of such a man may be on his\n",
    "first entering a neighbourhood, this truth is so well fixed in the minds\n",
    "of the surrounding families, that he is considered the rightful property\n",
    "of some one or other of their daughters.\n",
    "\n",
    "“My dear Mr. Bennet,” said his lady to him one day, “have you heard that\n",
    "Netherfield Park is let at last?”\n",
    "\n",
    "Mr. Bennet replied that he had not.\n",
    "\n",
    "“But it is,” returned she; “for Mrs. Long has just been here, and she\n",
    "told me all about it.”\n",
    "\n",
    "Mr. Bennet made no answer.\n",
    "\n",
    "“Do you not want to know who has taken it?” cried his wife impatiently.\n",
    "\n",
    "“_You_ want to tell me, and I have no objection to hearing it.”\n",
    "\n",
    "This was invitation enough.\n",
    "\n",
    "“Why, my dear, you must know, Mrs. Long says that Netherfield is taken\n",
    "by a young man of large fortune from the north of England; that he came\n",
    "down on Monday in a chaise and four to see the place, and was so much\n",
    "delighted with it, that he agreed with Mr. Morris immediately; that he\n",
    "is to take possession before Michaelmas, and some of his servants are to\n",
    "be in the house by the end of next week.”\n",
    "\n",
    "\"\"\"\n",
    "\n"
   ]
  },
  {
   "cell_type": "code",
   "execution_count": 44,
   "metadata": {
    "collapsed": false
   },
   "outputs": [],
   "source": [
    "cleaned_text = paragraph.lower().replace(',','').replace('.','').replace(';','').replace('?','').\\\n",
    "replace('\\n','').replace('”',\"\").replace('_','').strip()"
   ]
  },
  {
   "cell_type": "code",
   "execution_count": 47,
   "metadata": {
    "collapsed": false
   },
   "outputs": [
    {
     "data": {
      "text/plain": [
       "'it is a truth universally acknowledged that a single man in possessionof a good fortune must be in want of a wifehowever little known the feelings or views of such a man may be on hisfirst entering a neighbourhood this truth is so well fixed in the mindsof the surrounding families that he is considered the rightful propertyof some one or other of their daughters“my dear mr bennet said his lady to him one day “have you heard thatnetherfield park is let at lastmr bennet replied that he had not“but it is returned she “for mrs long has just been here and shetold me all about itmr bennet made no answer“do you not want to know who has taken it cried his wife impatiently“you want to tell me and i have no objection to hearing itthis was invitation enough“why my dear you must know mrs long says that netherfield is takenby a young man of large fortune from the north of england that he camedown on monday in a chaise and four to see the place and was so muchdelighted with it that he agreed with mr morris immediately that heis to take possession before michaelmas and some of his servants are tobe in the house by the end of next week'"
      ]
     },
     "execution_count": 47,
     "metadata": {},
     "output_type": "execute_result"
    }
   ],
   "source": [
    "cleaned_text"
   ]
  },
  {
   "cell_type": "code",
   "execution_count": 40,
   "metadata": {
    "collapsed": false
   },
   "outputs": [
    {
     "data": {
      "text/plain": [
       "{' ',\n",
       " 'a',\n",
       " 'b',\n",
       " 'c',\n",
       " 'd',\n",
       " 'e',\n",
       " 'f',\n",
       " 'g',\n",
       " 'h',\n",
       " 'i',\n",
       " 'j',\n",
       " 'k',\n",
       " 'l',\n",
       " 'm',\n",
       " 'n',\n",
       " 'o',\n",
       " 'p',\n",
       " 'r',\n",
       " 's',\n",
       " 't',\n",
       " 'u',\n",
       " 'v',\n",
       " 'w',\n",
       " 'x',\n",
       " 'y',\n",
       " '“',\n",
       " '”'}"
      ]
     },
     "execution_count": 40,
     "metadata": {},
     "output_type": "execute_result"
    }
   ],
   "source": [
    "set(cleaned_text)"
   ]
  },
  {
   "cell_type": "code",
   "execution_count": 41,
   "metadata": {
    "collapsed": false
   },
   "outputs": [
    {
     "data": {
      "text/plain": [
       "['it',\n",
       " 'is',\n",
       " 'a',\n",
       " 'truth',\n",
       " 'universally',\n",
       " 'acknowledged',\n",
       " 'that',\n",
       " 'a',\n",
       " 'single',\n",
       " 'man',\n",
       " 'in',\n",
       " 'possessionof',\n",
       " 'a',\n",
       " 'good',\n",
       " 'fortune',\n",
       " 'must',\n",
       " 'be',\n",
       " 'in',\n",
       " 'want',\n",
       " 'of',\n",
       " 'a',\n",
       " 'wifehowever',\n",
       " 'little',\n",
       " 'known',\n",
       " 'the',\n",
       " 'feelings',\n",
       " 'or',\n",
       " 'views',\n",
       " 'of',\n",
       " 'such',\n",
       " 'a',\n",
       " 'man',\n",
       " 'may',\n",
       " 'be',\n",
       " 'on',\n",
       " 'hisfirst',\n",
       " 'entering',\n",
       " 'a',\n",
       " 'neighbourhood',\n",
       " 'this',\n",
       " 'truth',\n",
       " 'is',\n",
       " 'so',\n",
       " 'well',\n",
       " 'fixed',\n",
       " 'in',\n",
       " 'the',\n",
       " 'mindsof',\n",
       " 'the',\n",
       " 'surrounding',\n",
       " 'families',\n",
       " 'that',\n",
       " 'he',\n",
       " 'is',\n",
       " 'considered',\n",
       " 'the',\n",
       " 'rightful',\n",
       " 'propertyof',\n",
       " 'some',\n",
       " 'one',\n",
       " 'or',\n",
       " 'other',\n",
       " 'of',\n",
       " 'their',\n",
       " 'daughters“my',\n",
       " 'dear',\n",
       " 'mr',\n",
       " 'bennet”',\n",
       " 'said',\n",
       " 'his',\n",
       " 'lady',\n",
       " 'to',\n",
       " 'him',\n",
       " 'one',\n",
       " 'day',\n",
       " '“have',\n",
       " 'you',\n",
       " 'heard',\n",
       " 'thatnetherfield',\n",
       " 'park',\n",
       " 'is',\n",
       " 'let',\n",
       " 'at',\n",
       " 'last”mr',\n",
       " 'bennet',\n",
       " 'replied',\n",
       " 'that',\n",
       " 'he',\n",
       " 'had',\n",
       " 'not“but',\n",
       " 'it',\n",
       " 'is”',\n",
       " 'returned',\n",
       " 'she',\n",
       " '“for',\n",
       " 'mrs',\n",
       " 'long',\n",
       " 'has',\n",
       " 'just',\n",
       " 'been',\n",
       " 'here',\n",
       " 'and',\n",
       " 'shetold',\n",
       " 'me',\n",
       " 'all',\n",
       " 'about',\n",
       " 'it”mr',\n",
       " 'bennet',\n",
       " 'made',\n",
       " 'no',\n",
       " 'answer“do',\n",
       " 'you',\n",
       " 'not',\n",
       " 'want',\n",
       " 'to',\n",
       " 'know',\n",
       " 'who',\n",
       " 'has',\n",
       " 'taken',\n",
       " 'it”',\n",
       " 'cried',\n",
       " 'his',\n",
       " 'wife',\n",
       " 'impatiently“you',\n",
       " 'want',\n",
       " 'to',\n",
       " 'tell',\n",
       " 'me',\n",
       " 'and',\n",
       " 'i',\n",
       " 'have',\n",
       " 'no',\n",
       " 'objection',\n",
       " 'to',\n",
       " 'hearing',\n",
       " 'it”this',\n",
       " 'was',\n",
       " 'invitation',\n",
       " 'enough“why',\n",
       " 'my',\n",
       " 'dear',\n",
       " 'you',\n",
       " 'must',\n",
       " 'know',\n",
       " 'mrs',\n",
       " 'long',\n",
       " 'says',\n",
       " 'that',\n",
       " 'netherfield',\n",
       " 'is',\n",
       " 'takenby',\n",
       " 'a',\n",
       " 'young',\n",
       " 'man',\n",
       " 'of',\n",
       " 'large',\n",
       " 'fortune',\n",
       " 'from',\n",
       " 'the',\n",
       " 'north',\n",
       " 'of',\n",
       " 'england',\n",
       " 'that',\n",
       " 'he',\n",
       " 'camedown',\n",
       " 'on',\n",
       " 'monday',\n",
       " 'in',\n",
       " 'a',\n",
       " 'chaise',\n",
       " 'and',\n",
       " 'four',\n",
       " 'to',\n",
       " 'see',\n",
       " 'the',\n",
       " 'place',\n",
       " 'and',\n",
       " 'was',\n",
       " 'so',\n",
       " 'muchdelighted',\n",
       " 'with',\n",
       " 'it',\n",
       " 'that',\n",
       " 'he',\n",
       " 'agreed',\n",
       " 'with',\n",
       " 'mr',\n",
       " 'morris',\n",
       " 'immediately',\n",
       " 'that',\n",
       " 'heis',\n",
       " 'to',\n",
       " 'take',\n",
       " 'possession',\n",
       " 'before',\n",
       " 'michaelmas',\n",
       " 'and',\n",
       " 'some',\n",
       " 'of',\n",
       " 'his',\n",
       " 'servants',\n",
       " 'are',\n",
       " 'tobe',\n",
       " 'in',\n",
       " 'the',\n",
       " 'house',\n",
       " 'by',\n",
       " 'the',\n",
       " 'end',\n",
       " 'of',\n",
       " 'next',\n",
       " 'week”']"
      ]
     },
     "execution_count": 41,
     "metadata": {},
     "output_type": "execute_result"
    }
   ],
   "source": [
    "cleaned_text.split()"
   ]
  },
  {
   "cell_type": "code",
   "execution_count": 30,
   "metadata": {
    "collapsed": false
   },
   "outputs": [
    {
     "name": "stdout",
     "output_type": "stream",
     "text": [
      "Help on built-in function count:\n",
      "\n",
      "count(...) method of builtins.list instance\n",
      "    L.count(value) -> integer -- return number of occurrences of value\n",
      "\n"
     ]
    }
   ],
   "source": [
    "help([].count)"
   ]
  },
  {
   "cell_type": "code",
   "execution_count": 31,
   "metadata": {
    "collapsed": true
   },
   "outputs": [],
   "source": [
    "word_list = cleaned_text.split()"
   ]
  },
  {
   "cell_type": "code",
   "execution_count": 32,
   "metadata": {
    "collapsed": true
   },
   "outputs": [],
   "source": [
    "word_set = set(word_list)"
   ]
  },
  {
   "cell_type": "code",
   "execution_count": 34,
   "metadata": {
    "collapsed": false
   },
   "outputs": [
    {
     "data": {
      "text/plain": [
       "{'a': 8,\n",
       " 'about': 1,\n",
       " 'acknowledged': 1,\n",
       " 'agreed': 1,\n",
       " 'all': 1,\n",
       " 'and': 5,\n",
       " 'answer“do': 1,\n",
       " 'are': 1,\n",
       " 'at': 1,\n",
       " 'be': 2,\n",
       " 'been': 1,\n",
       " 'before': 1,\n",
       " 'bennet': 2,\n",
       " 'bennet”': 1,\n",
       " 'by': 1,\n",
       " 'camedown': 1,\n",
       " 'chaise': 1,\n",
       " 'considered': 1,\n",
       " 'cried': 1,\n",
       " 'daughters“my': 1,\n",
       " 'day': 1,\n",
       " 'dear': 2,\n",
       " 'end': 1,\n",
       " 'england': 1,\n",
       " 'enough“why': 1,\n",
       " 'entering': 1,\n",
       " 'families': 1,\n",
       " 'feelings': 1,\n",
       " 'fixed': 1,\n",
       " 'fortune': 2,\n",
       " 'four': 1,\n",
       " 'from': 1,\n",
       " 'good': 1,\n",
       " 'had': 1,\n",
       " 'has': 2,\n",
       " 'have': 1,\n",
       " 'he': 4,\n",
       " 'heard': 1,\n",
       " 'hearing': 1,\n",
       " 'heis': 1,\n",
       " 'here': 1,\n",
       " 'him': 1,\n",
       " 'his': 3,\n",
       " 'hisfirst': 1,\n",
       " 'house': 1,\n",
       " 'i': 1,\n",
       " 'immediately': 1,\n",
       " 'impatiently“you': 1,\n",
       " 'in': 5,\n",
       " 'invitation': 1,\n",
       " 'is': 5,\n",
       " 'is”': 1,\n",
       " 'it': 3,\n",
       " 'it”': 1,\n",
       " 'it”mr': 1,\n",
       " 'it”this': 1,\n",
       " 'just': 1,\n",
       " 'know': 2,\n",
       " 'known': 1,\n",
       " 'lady': 1,\n",
       " 'large': 1,\n",
       " 'last”mr': 1,\n",
       " 'let': 1,\n",
       " 'little': 1,\n",
       " 'long': 2,\n",
       " 'made': 1,\n",
       " 'man': 3,\n",
       " 'may': 1,\n",
       " 'me': 2,\n",
       " 'michaelmas': 1,\n",
       " 'mindsof': 1,\n",
       " 'monday': 1,\n",
       " 'morris': 1,\n",
       " 'mr': 2,\n",
       " 'mrs': 2,\n",
       " 'muchdelighted': 1,\n",
       " 'must': 2,\n",
       " 'my': 1,\n",
       " 'neighbourhood': 1,\n",
       " 'netherfield': 1,\n",
       " 'next': 1,\n",
       " 'no': 2,\n",
       " 'north': 1,\n",
       " 'not': 1,\n",
       " 'not“but': 1,\n",
       " 'objection': 1,\n",
       " 'of': 7,\n",
       " 'on': 2,\n",
       " 'one': 2,\n",
       " 'or': 2,\n",
       " 'other': 1,\n",
       " 'park': 1,\n",
       " 'place': 1,\n",
       " 'possession': 1,\n",
       " 'possessionof': 1,\n",
       " 'propertyof': 1,\n",
       " 'replied': 1,\n",
       " 'returned': 1,\n",
       " 'rightful': 1,\n",
       " 'said': 1,\n",
       " 'says': 1,\n",
       " 'see': 1,\n",
       " 'servants': 1,\n",
       " 'she': 1,\n",
       " 'shetold': 1,\n",
       " 'single': 1,\n",
       " 'so': 2,\n",
       " 'some': 2,\n",
       " 'such': 1,\n",
       " 'surrounding': 1,\n",
       " 'take': 1,\n",
       " 'taken': 1,\n",
       " 'takenby': 1,\n",
       " 'tell': 1,\n",
       " 'that': 7,\n",
       " 'thatnetherfield': 1,\n",
       " 'the': 8,\n",
       " 'their': 1,\n",
       " 'this': 1,\n",
       " 'to': 6,\n",
       " 'tobe': 1,\n",
       " 'truth': 2,\n",
       " 'universally': 1,\n",
       " 'views': 1,\n",
       " 'want': 3,\n",
       " 'was': 2,\n",
       " 'week”': 1,\n",
       " 'well': 1,\n",
       " 'who': 1,\n",
       " 'wife': 1,\n",
       " 'wifehowever': 1,\n",
       " 'with': 2,\n",
       " 'you': 3,\n",
       " 'young': 1,\n",
       " '“for': 1,\n",
       " '“have': 1}"
      ]
     },
     "execution_count": 34,
     "metadata": {},
     "output_type": "execute_result"
    }
   ],
   "source": [
    "{word: word_list.count(word) for word in word_set}"
   ]
  },
  {
   "cell_type": "code",
   "execution_count": 48,
   "metadata": {
    "collapsed": false
   },
   "outputs": [
    {
     "data": {
      "text/plain": [
       "list"
      ]
     },
     "execution_count": 48,
     "metadata": {},
     "output_type": "execute_result"
    }
   ],
   "source": [
    "type([])"
   ]
  },
  {
   "cell_type": "code",
   "execution_count": 49,
   "metadata": {
    "collapsed": false
   },
   "outputs": [
    {
     "data": {
      "text/plain": [
       "dict"
      ]
     },
     "execution_count": 49,
     "metadata": {},
     "output_type": "execute_result"
    }
   ],
   "source": [
    "type({})"
   ]
  },
  {
   "cell_type": "code",
   "execution_count": 50,
   "metadata": {
    "collapsed": false
   },
   "outputs": [
    {
     "data": {
      "text/plain": [
       "set"
      ]
     },
     "execution_count": 50,
     "metadata": {},
     "output_type": "execute_result"
    }
   ],
   "source": [
    "type(set())"
   ]
  },
  {
   "cell_type": "code",
   "execution_count": 62,
   "metadata": {
    "collapsed": false
   },
   "outputs": [
    {
     "data": {
      "text/plain": [
       "{'answer“do',\n",
       " 'bennet”',\n",
       " 'daughters“my',\n",
       " 'enough“why',\n",
       " 'impatiently“you',\n",
       " 'is”',\n",
       " 'it”',\n",
       " 'it”mr',\n",
       " 'it”this',\n",
       " 'last”mr',\n",
       " 'not“but',\n",
       " 'week”',\n",
       " '“for',\n",
       " '“have'}"
      ]
     },
     "execution_count": 62,
     "metadata": {},
     "output_type": "execute_result"
    }
   ],
   "source": [
    "{word for word in word_list if not word.isalpha()}"
   ]
  },
  {
   "cell_type": "code",
   "execution_count": 54,
   "metadata": {
    "collapsed": false
   },
   "outputs": [
    {
     "data": {
      "text/plain": [
       "['__add__',\n",
       " '__class__',\n",
       " '__contains__',\n",
       " '__delattr__',\n",
       " '__dir__',\n",
       " '__doc__',\n",
       " '__eq__',\n",
       " '__format__',\n",
       " '__ge__',\n",
       " '__getattribute__',\n",
       " '__getitem__',\n",
       " '__getnewargs__',\n",
       " '__gt__',\n",
       " '__hash__',\n",
       " '__init__',\n",
       " '__init_subclass__',\n",
       " '__iter__',\n",
       " '__le__',\n",
       " '__len__',\n",
       " '__lt__',\n",
       " '__mod__',\n",
       " '__mul__',\n",
       " '__ne__',\n",
       " '__new__',\n",
       " '__reduce__',\n",
       " '__reduce_ex__',\n",
       " '__repr__',\n",
       " '__rmod__',\n",
       " '__rmul__',\n",
       " '__setattr__',\n",
       " '__sizeof__',\n",
       " '__str__',\n",
       " '__subclasshook__',\n",
       " 'capitalize',\n",
       " 'casefold',\n",
       " 'center',\n",
       " 'count',\n",
       " 'encode',\n",
       " 'endswith',\n",
       " 'expandtabs',\n",
       " 'find',\n",
       " 'format',\n",
       " 'format_map',\n",
       " 'index',\n",
       " 'isalnum',\n",
       " 'isalpha',\n",
       " 'isdecimal',\n",
       " 'isdigit',\n",
       " 'isidentifier',\n",
       " 'islower',\n",
       " 'isnumeric',\n",
       " 'isprintable',\n",
       " 'isspace',\n",
       " 'istitle',\n",
       " 'isupper',\n",
       " 'join',\n",
       " 'ljust',\n",
       " 'lower',\n",
       " 'lstrip',\n",
       " 'maketrans',\n",
       " 'partition',\n",
       " 'replace',\n",
       " 'rfind',\n",
       " 'rindex',\n",
       " 'rjust',\n",
       " 'rpartition',\n",
       " 'rsplit',\n",
       " 'rstrip',\n",
       " 'split',\n",
       " 'splitlines',\n",
       " 'startswith',\n",
       " 'strip',\n",
       " 'swapcase',\n",
       " 'title',\n",
       " 'translate',\n",
       " 'upper',\n",
       " 'zfill']"
      ]
     },
     "execution_count": 54,
     "metadata": {},
     "output_type": "execute_result"
    }
   ],
   "source": [
    "dir(' ')"
   ]
  },
  {
   "cell_type": "code",
   "execution_count": 59,
   "metadata": {
    "collapsed": false
   },
   "outputs": [
    {
     "name": "stdout",
     "output_type": "stream",
     "text": [
      "Help on built-in function isnumeric:\n",
      "\n",
      "isnumeric(...) method of builtins.str instance\n",
      "    S.isnumeric() -> bool\n",
      "    \n",
      "    Return True if there are only numeric characters in S,\n",
      "    False otherwise.\n",
      "\n"
     ]
    }
   ],
   "source": [
    "help(''.isnumeric)"
   ]
  },
  {
   "cell_type": "code",
   "execution_count": 60,
   "metadata": {
    "collapsed": false
   },
   "outputs": [
    {
     "name": "stdout",
     "output_type": "stream",
     "text": [
      "Help on built-in function isalnum:\n",
      "\n",
      "isalnum(...) method of builtins.str instance\n",
      "    S.isalnum() -> bool\n",
      "    \n",
      "    Return True if all characters in S are alphanumeric\n",
      "    and there is at least one character in S, False otherwise.\n",
      "\n"
     ]
    }
   ],
   "source": [
    "help(''.isalnum)"
   ]
  },
  {
   "cell_type": "code",
   "execution_count": 63,
   "metadata": {
    "collapsed": false
   },
   "outputs": [
    {
     "data": {
      "text/plain": [
       "{'',\n",
       " 'a',\n",
       " 'about',\n",
       " 'acknowledged',\n",
       " 'agreed',\n",
       " 'all',\n",
       " 'and',\n",
       " 'are',\n",
       " 'at',\n",
       " 'be',\n",
       " 'been',\n",
       " 'before',\n",
       " 'bennet',\n",
       " 'by',\n",
       " 'camedown',\n",
       " 'chaise',\n",
       " 'considered',\n",
       " 'cried',\n",
       " 'day',\n",
       " 'dear',\n",
       " 'end',\n",
       " 'england',\n",
       " 'entering',\n",
       " 'families',\n",
       " 'feelings',\n",
       " 'fixed',\n",
       " 'fortune',\n",
       " 'four',\n",
       " 'from',\n",
       " 'good',\n",
       " 'had',\n",
       " 'has',\n",
       " 'have',\n",
       " 'he',\n",
       " 'heard',\n",
       " 'hearing',\n",
       " 'heis',\n",
       " 'here',\n",
       " 'him',\n",
       " 'his',\n",
       " 'hisfirst',\n",
       " 'house',\n",
       " 'i',\n",
       " 'immediately',\n",
       " 'in',\n",
       " 'invitation',\n",
       " 'is',\n",
       " 'it',\n",
       " 'just',\n",
       " 'know',\n",
       " 'known',\n",
       " 'lady',\n",
       " 'large',\n",
       " 'let',\n",
       " 'little',\n",
       " 'long',\n",
       " 'made',\n",
       " 'man',\n",
       " 'may',\n",
       " 'me',\n",
       " 'michaelmas',\n",
       " 'mindsof',\n",
       " 'monday',\n",
       " 'morris',\n",
       " 'mr',\n",
       " 'mrs',\n",
       " 'muchdelighted',\n",
       " 'must',\n",
       " 'my',\n",
       " 'neighbourhood',\n",
       " 'netherfield',\n",
       " 'next',\n",
       " 'no',\n",
       " 'north',\n",
       " 'not',\n",
       " 'objection',\n",
       " 'of',\n",
       " 'on',\n",
       " 'one',\n",
       " 'or',\n",
       " 'other',\n",
       " 'park',\n",
       " 'place',\n",
       " 'possession',\n",
       " 'possessionof',\n",
       " 'propertyof',\n",
       " 'replied',\n",
       " 'returned',\n",
       " 'rightful',\n",
       " 'said',\n",
       " 'says',\n",
       " 'see',\n",
       " 'servants',\n",
       " 'she',\n",
       " 'shetold',\n",
       " 'single',\n",
       " 'so',\n",
       " 'some',\n",
       " 'such',\n",
       " 'surrounding',\n",
       " 'take',\n",
       " 'taken',\n",
       " 'takenby',\n",
       " 'tell',\n",
       " 'that',\n",
       " 'thatnetherfield',\n",
       " 'the',\n",
       " 'their',\n",
       " 'this',\n",
       " 'to',\n",
       " 'tobe',\n",
       " 'truth',\n",
       " 'universally',\n",
       " 'views',\n",
       " 'want',\n",
       " 'was',\n",
       " 'well',\n",
       " 'who',\n",
       " 'wife',\n",
       " 'wifehowever',\n",
       " 'with',\n",
       " 'you',\n",
       " 'young'}"
      ]
     },
     "execution_count": 63,
     "metadata": {},
     "output_type": "execute_result"
    }
   ],
   "source": [
    "{word if word.isalpha() else \"\" for word in word_list}"
   ]
  },
  {
   "cell_type": "code",
   "execution_count": 64,
   "metadata": {
    "collapsed": false
   },
   "outputs": [
    {
     "data": {
      "text/plain": [
       "['__and__',\n",
       " '__class__',\n",
       " '__contains__',\n",
       " '__delattr__',\n",
       " '__dir__',\n",
       " '__doc__',\n",
       " '__eq__',\n",
       " '__format__',\n",
       " '__ge__',\n",
       " '__getattribute__',\n",
       " '__gt__',\n",
       " '__hash__',\n",
       " '__iand__',\n",
       " '__init__',\n",
       " '__init_subclass__',\n",
       " '__ior__',\n",
       " '__isub__',\n",
       " '__iter__',\n",
       " '__ixor__',\n",
       " '__le__',\n",
       " '__len__',\n",
       " '__lt__',\n",
       " '__ne__',\n",
       " '__new__',\n",
       " '__or__',\n",
       " '__rand__',\n",
       " '__reduce__',\n",
       " '__reduce_ex__',\n",
       " '__repr__',\n",
       " '__ror__',\n",
       " '__rsub__',\n",
       " '__rxor__',\n",
       " '__setattr__',\n",
       " '__sizeof__',\n",
       " '__str__',\n",
       " '__sub__',\n",
       " '__subclasshook__',\n",
       " '__xor__',\n",
       " 'add',\n",
       " 'clear',\n",
       " 'copy',\n",
       " 'difference',\n",
       " 'difference_update',\n",
       " 'discard',\n",
       " 'intersection',\n",
       " 'intersection_update',\n",
       " 'isdisjoint',\n",
       " 'issubset',\n",
       " 'issuperset',\n",
       " 'pop',\n",
       " 'remove',\n",
       " 'symmetric_difference',\n",
       " 'symmetric_difference_update',\n",
       " 'union',\n",
       " 'update']"
      ]
     },
     "execution_count": 64,
     "metadata": {},
     "output_type": "execute_result"
    }
   ],
   "source": [
    "dir(set())"
   ]
  },
  {
   "cell_type": "code",
   "execution_count": 66,
   "metadata": {
    "collapsed": false
   },
   "outputs": [
    {
     "data": {
      "text/plain": [
       "{5, 6, 7, 8, 9}"
      ]
     },
     "execution_count": 66,
     "metadata": {},
     "output_type": "execute_result"
    }
   ],
   "source": [
    "{5,6,7,8,9}\n"
   ]
  },
  {
   "cell_type": "code",
   "execution_count": 67,
   "metadata": {
    "collapsed": false
   },
   "outputs": [
    {
     "name": "stdout",
     "output_type": "stream",
     "text": [
      "Help on built-in function pop:\n",
      "\n",
      "pop(...) method of builtins.set instance\n",
      "    Remove and return an arbitrary set element.\n",
      "    Raises KeyError if the set is empty.\n",
      "\n"
     ]
    }
   ],
   "source": [
    "help(set().pop)"
   ]
  },
  {
   "cell_type": "code",
   "execution_count": 68,
   "metadata": {
    "collapsed": false
   },
   "outputs": [
    {
     "data": {
      "text/plain": [
       "{5, 6, 7, 8, 9}"
      ]
     },
     "execution_count": 68,
     "metadata": {},
     "output_type": "execute_result"
    }
   ],
   "source": [
    "abc  = {5,6,7,8,9}\n",
    "\n",
    "abc"
   ]
  },
  {
   "cell_type": "code",
   "execution_count": 69,
   "metadata": {
    "collapsed": true
   },
   "outputs": [],
   "source": [
    "pqr = {1,2,3}"
   ]
  },
  {
   "cell_type": "code",
   "execution_count": 71,
   "metadata": {
    "collapsed": true
   },
   "outputs": [],
   "source": [
    "abc.update(pqr)"
   ]
  },
  {
   "cell_type": "code",
   "execution_count": null,
   "metadata": {
    "collapsed": true
   },
   "outputs": [],
   "source": []
  },
  {
   "cell_type": "code",
   "execution_count": null,
   "metadata": {
    "collapsed": true
   },
   "outputs": [],
   "source": []
  },
  {
   "cell_type": "code",
   "execution_count": 72,
   "metadata": {
    "collapsed": false
   },
   "outputs": [
    {
     "data": {
      "text/plain": [
       "{1, 2, 3, 5, 6, 7, 8, 9}"
      ]
     },
     "execution_count": 72,
     "metadata": {},
     "output_type": "execute_result"
    }
   ],
   "source": [
    "abc"
   ]
  },
  {
   "cell_type": "code",
   "execution_count": 73,
   "metadata": {
    "collapsed": false
   },
   "outputs": [
    {
     "data": {
      "text/plain": [
       "False"
      ]
     },
     "execution_count": 73,
     "metadata": {},
     "output_type": "execute_result"
    }
   ],
   "source": [
    "abc.issubset(pqr)"
   ]
  },
  {
   "cell_type": "code",
   "execution_count": 75,
   "metadata": {
    "collapsed": false
   },
   "outputs": [
    {
     "data": {
      "text/plain": [
       "True"
      ]
     },
     "execution_count": 75,
     "metadata": {},
     "output_type": "execute_result"
    }
   ],
   "source": [
    "abc.issuperset(pqr)"
   ]
  },
  {
   "cell_type": "code",
   "execution_count": 76,
   "metadata": {
    "collapsed": false
   },
   "outputs": [
    {
     "data": {
      "text/plain": [
       "1"
      ]
     },
     "execution_count": 76,
     "metadata": {},
     "output_type": "execute_result"
    }
   ],
   "source": [
    "abc.pop()"
   ]
  },
  {
   "cell_type": "code",
   "execution_count": 77,
   "metadata": {
    "collapsed": false
   },
   "outputs": [
    {
     "data": {
      "text/plain": [
       "{2, 3, 5, 6, 7, 8, 9}"
      ]
     },
     "execution_count": 77,
     "metadata": {},
     "output_type": "execute_result"
    }
   ],
   "source": [
    "abc"
   ]
  },
  {
   "cell_type": "code",
   "execution_count": 78,
   "metadata": {
    "collapsed": true
   },
   "outputs": [],
   "source": [
    "abc.remove(5)"
   ]
  },
  {
   "cell_type": "code",
   "execution_count": 79,
   "metadata": {
    "collapsed": false
   },
   "outputs": [
    {
     "data": {
      "text/plain": [
       "{2, 3, 6, 7, 8, 9}"
      ]
     },
     "execution_count": 79,
     "metadata": {},
     "output_type": "execute_result"
    }
   ],
   "source": []
  },
  {
   "cell_type": "code",
   "execution_count": 82,
   "metadata": {
    "collapsed": true
   },
   "outputs": [],
   "source": [
    "lst = [7,89,8]\n"
   ]
  },
  {
   "cell_type": "code",
   "execution_count": 84,
   "metadata": {
    "collapsed": false
   },
   "outputs": [],
   "source": [
    "lst.append(12)"
   ]
  },
  {
   "cell_type": "code",
   "execution_count": 85,
   "metadata": {
    "collapsed": false
   },
   "outputs": [
    {
     "data": {
      "text/plain": [
       "[7, 89, 8, 12]"
      ]
     },
     "execution_count": 85,
     "metadata": {},
     "output_type": "execute_result"
    }
   ],
   "source": [
    "lst"
   ]
  },
  {
   "cell_type": "code",
   "execution_count": 86,
   "metadata": {
    "collapsed": true
   },
   "outputs": [],
   "source": [
    "lst.insert(1,3)"
   ]
  },
  {
   "cell_type": "code",
   "execution_count": 87,
   "metadata": {
    "collapsed": false
   },
   "outputs": [
    {
     "data": {
      "text/plain": [
       "[7, 3, 89, 8, 12]"
      ]
     },
     "execution_count": 87,
     "metadata": {},
     "output_type": "execute_result"
    }
   ],
   "source": [
    "lst"
   ]
  },
  {
   "cell_type": "code",
   "execution_count": 88,
   "metadata": {
    "collapsed": false
   },
   "outputs": [
    {
     "data": {
      "text/plain": [
       "[7, 3, 89, 8]"
      ]
     },
     "execution_count": 88,
     "metadata": {},
     "output_type": "execute_result"
    }
   ],
   "source": [
    "lst.pop()\n",
    "lst"
   ]
  },
  {
   "cell_type": "code",
   "execution_count": 89,
   "metadata": {
    "collapsed": false
   },
   "outputs": [
    {
     "data": {
      "text/plain": [
       "7"
      ]
     },
     "execution_count": 89,
     "metadata": {},
     "output_type": "execute_result"
    }
   ],
   "source": [
    "lst.pop(0)"
   ]
  },
  {
   "cell_type": "code",
   "execution_count": 90,
   "metadata": {
    "collapsed": false
   },
   "outputs": [
    {
     "data": {
      "text/plain": [
       "[3, 89, 8]"
      ]
     },
     "execution_count": 90,
     "metadata": {},
     "output_type": "execute_result"
    }
   ],
   "source": [
    "lst"
   ]
  },
  {
   "cell_type": "code",
   "execution_count": 94,
   "metadata": {
    "collapsed": false
   },
   "outputs": [
    {
     "name": "stdout",
     "output_type": "stream",
     "text": [
      "Help on built-in function pop:\n",
      "\n",
      "pop(...) method of builtins.list instance\n",
      "    L.pop([index]) -> item -- remove and return item at index (default last).\n",
      "    Raises IndexError if list is empty or index is out of range.\n",
      "\n"
     ]
    }
   ],
   "source": [
    "help(lst.pop)"
   ]
  },
  {
   "cell_type": "code",
   "execution_count": 95,
   "metadata": {
    "collapsed": false
   },
   "outputs": [
    {
     "data": {
      "text/plain": [
       "['__class__',\n",
       " '__contains__',\n",
       " '__delattr__',\n",
       " '__delitem__',\n",
       " '__dir__',\n",
       " '__doc__',\n",
       " '__eq__',\n",
       " '__format__',\n",
       " '__ge__',\n",
       " '__getattribute__',\n",
       " '__getitem__',\n",
       " '__gt__',\n",
       " '__hash__',\n",
       " '__init__',\n",
       " '__init_subclass__',\n",
       " '__iter__',\n",
       " '__le__',\n",
       " '__len__',\n",
       " '__lt__',\n",
       " '__ne__',\n",
       " '__new__',\n",
       " '__reduce__',\n",
       " '__reduce_ex__',\n",
       " '__repr__',\n",
       " '__setattr__',\n",
       " '__setitem__',\n",
       " '__sizeof__',\n",
       " '__str__',\n",
       " '__subclasshook__',\n",
       " 'clear',\n",
       " 'copy',\n",
       " 'fromkeys',\n",
       " 'get',\n",
       " 'items',\n",
       " 'keys',\n",
       " 'pop',\n",
       " 'popitem',\n",
       " 'setdefault',\n",
       " 'update',\n",
       " 'values']"
      ]
     },
     "execution_count": 95,
     "metadata": {},
     "output_type": "execute_result"
    }
   ],
   "source": [
    "dir(dict)"
   ]
  },
  {
   "cell_type": "code",
   "execution_count": 99,
   "metadata": {
    "collapsed": false
   },
   "outputs": [],
   "source": [
    "dct = {'a': 1,'b':2}"
   ]
  },
  {
   "cell_type": "code",
   "execution_count": 100,
   "metadata": {
    "collapsed": false
   },
   "outputs": [
    {
     "data": {
      "text/plain": [
       "{'a': 1, 'b': 2}"
      ]
     },
     "execution_count": 100,
     "metadata": {},
     "output_type": "execute_result"
    }
   ],
   "source": [
    "dct"
   ]
  },
  {
   "cell_type": "code",
   "execution_count": 101,
   "metadata": {
    "collapsed": false
   },
   "outputs": [
    {
     "data": {
      "text/plain": [
       "{'a': 12, 'b': 2}"
      ]
     },
     "execution_count": 101,
     "metadata": {},
     "output_type": "execute_result"
    }
   ],
   "source": [
    "dct.update({'a':12})\n",
    "dct"
   ]
  },
  {
   "cell_type": "code",
   "execution_count": 103,
   "metadata": {
    "collapsed": false
   },
   "outputs": [
    {
     "data": {
      "text/plain": [
       "dict_values([12, 2])"
      ]
     },
     "execution_count": 103,
     "metadata": {},
     "output_type": "execute_result"
    }
   ],
   "source": [
    "dct.values()"
   ]
  },
  {
   "cell_type": "code",
   "execution_count": 104,
   "metadata": {
    "collapsed": false
   },
   "outputs": [
    {
     "data": {
      "text/plain": [
       "[12, 2]"
      ]
     },
     "execution_count": 104,
     "metadata": {},
     "output_type": "execute_result"
    }
   ],
   "source": [
    "list(dct.values())"
   ]
  },
  {
   "cell_type": "code",
   "execution_count": 105,
   "metadata": {
    "collapsed": false
   },
   "outputs": [
    {
     "data": {
      "text/plain": [
       "[24, 4]"
      ]
     },
     "execution_count": 105,
     "metadata": {},
     "output_type": "execute_result"
    }
   ],
   "source": [
    "[X*2 for X in dct.values()]"
   ]
  },
  {
   "cell_type": "code",
   "execution_count": 106,
   "metadata": {
    "collapsed": false
   },
   "outputs": [
    {
     "data": {
      "text/plain": [
       "dict_keys(['a', 'b'])"
      ]
     },
     "execution_count": 106,
     "metadata": {},
     "output_type": "execute_result"
    }
   ],
   "source": [
    "dct.keys()"
   ]
  },
  {
   "cell_type": "code",
   "execution_count": 107,
   "metadata": {
    "collapsed": false
   },
   "outputs": [
    {
     "data": {
      "text/plain": [
       "dict_items([('a', 12), ('b', 2)])"
      ]
     },
     "execution_count": 107,
     "metadata": {},
     "output_type": "execute_result"
    }
   ],
   "source": [
    "dct.items()"
   ]
  },
  {
   "cell_type": "code",
   "execution_count": 109,
   "metadata": {
    "collapsed": false
   },
   "outputs": [
    {
     "name": "stdout",
     "output_type": "stream",
     "text": [
      "keys a value 12\n",
      "keys b value 2\n"
     ]
    }
   ],
   "source": [
    "for item in dct:\n",
    "    print(\"keys {} value {}\".format(item,dct[item]))"
   ]
  },
  {
   "cell_type": "code",
   "execution_count": 113,
   "metadata": {
    "collapsed": false
   },
   "outputs": [
    {
     "name": "stdout",
     "output_type": "stream",
     "text": [
      "keys a value 12\n",
      "keys b value 2\n"
     ]
    }
   ],
   "source": [
    "for key,value in dct.items():\n",
    "    print (\"keys {} value {}\".format(key,value))\n",
    "    "
   ]
  },
  {
   "cell_type": "code",
   "execution_count": 114,
   "metadata": {
    "collapsed": false
   },
   "outputs": [
    {
     "name": "stdout",
     "output_type": "stream",
     "text": [
      "('a', 12)\n",
      "('b', 2)\n"
     ]
    }
   ],
   "source": [
    "for item in dct.items():\n",
    "    print (item)\n"
   ]
  },
  {
   "cell_type": "code",
   "execution_count": 115,
   "metadata": {
    "collapsed": false
   },
   "outputs": [
    {
     "name": "stdout",
     "output_type": "stream",
     "text": [
      "a --- 12\n",
      "b --- 2\n"
     ]
    }
   ],
   "source": [
    "for item in dct.items():\n",
    "    key , value = item\n",
    "    print (key , '---',value)\n",
    "\n"
   ]
  },
  {
   "cell_type": "code",
   "execution_count": null,
   "metadata": {
    "collapsed": true
   },
   "outputs": [],
   "source": []
  },
  {
   "cell_type": "code",
   "execution_count": null,
   "metadata": {
    "collapsed": true
   },
   "outputs": [],
   "source": []
  },
  {
   "cell_type": "code",
   "execution_count": null,
   "metadata": {
    "collapsed": true
   },
   "outputs": [],
   "source": []
  },
  {
   "cell_type": "code",
   "execution_count": null,
   "metadata": {
    "collapsed": true
   },
   "outputs": [],
   "source": []
  },
  {
   "cell_type": "code",
   "execution_count": null,
   "metadata": {
    "collapsed": true
   },
   "outputs": [],
   "source": []
  },
  {
   "cell_type": "code",
   "execution_count": null,
   "metadata": {
    "collapsed": true
   },
   "outputs": [],
   "source": []
  },
  {
   "cell_type": "code",
   "execution_count": null,
   "metadata": {
    "collapsed": true
   },
   "outputs": [],
   "source": []
  },
  {
   "cell_type": "code",
   "execution_count": null,
   "metadata": {
    "collapsed": true
   },
   "outputs": [],
   "source": []
  },
  {
   "cell_type": "code",
   "execution_count": null,
   "metadata": {
    "collapsed": true
   },
   "outputs": [],
   "source": []
  },
  {
   "cell_type": "code",
   "execution_count": null,
   "metadata": {
    "collapsed": true
   },
   "outputs": [],
   "source": []
  },
  {
   "cell_type": "code",
   "execution_count": null,
   "metadata": {
    "collapsed": true
   },
   "outputs": [],
   "source": []
  },
  {
   "cell_type": "code",
   "execution_count": null,
   "metadata": {
    "collapsed": true
   },
   "outputs": [],
   "source": []
  },
  {
   "cell_type": "code",
   "execution_count": null,
   "metadata": {
    "collapsed": true
   },
   "outputs": [],
   "source": []
  },
  {
   "cell_type": "code",
   "execution_count": null,
   "metadata": {
    "collapsed": true
   },
   "outputs": [],
   "source": []
  }
 ],
 "metadata": {
  "kernelspec": {
   "display_name": "Python 3",
   "language": "python",
   "name": "python3"
  },
  "language_info": {
   "codemirror_mode": {
    "name": "ipython",
    "version": 3
   },
   "file_extension": ".py",
   "mimetype": "text/x-python",
   "name": "python",
   "nbconvert_exporter": "python",
   "pygments_lexer": "ipython3",
   "version": "3.6.0"
  }
 },
 "nbformat": 4,
 "nbformat_minor": 2
}
