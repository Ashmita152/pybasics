{
 "cells": [
  {
   "cell_type": "markdown",
   "metadata": {},
   "source": [
    "# Day 3\n",
    "---\n",
    "problem: Determine frequency of words for given paragraph.\n",
    "\n",
    "Uses:\n",
    "    -Dictionary\n",
    "    -List\n",
    "    -String  function\n",
    "    -while loop\n",
    "    if condition\n",
    "   "
   ]
  },
  {
   "cell_type": "code",
   "execution_count": 1,
   "metadata": {
    "collapsed": true
   },
   "outputs": [],
   "source": [
    "paragraph = '''\n",
    "I had seen little of Holmes lately. My marriage had drifted us\n",
    "away from each other. My own complete happiness, and the\n",
    "home-centred interests which rise up around the man who first\n",
    "finds himself master of his own establishment, were sufficient to\n",
    "absorb all my attention, while Holmes, who loathed every form of\n",
    "society with his whole Bohemian soul, remained in our lodgings in\n",
    "Baker Street, buried among his old books, and alternating from\n",
    "week to week between cocaine and ambition, the drowsiness of the\n",
    "drug, and the fierce energy of his own keen nature. He was still,\n",
    "as ever, deeply attracted by the study of crime, and occupied his\n",
    "immense faculties and extraordinary powers of observation in\n",
    "following out those clues, and clearing up those mysteries which\n",
    "had been abandoned as hopeless by the official police. From time\n",
    "to time I heard some vague account of his doings: of his summons\n",
    "to Odessa in the case of the Trepoff murder, of his clearing up\n",
    "of the singular tragedy of the Atkinson brothers at Trincomalee,\n",
    "and finally of the mission which he had accomplished so\n",
    "delicately and successfully for the reigning family of Holland.\n",
    "Beyond these signs of his activity, however, which I merely\n",
    "shared with all the readers of the daily press, I knew little of\n",
    "my former friend and companion.\n",
    "'''"
   ]
  },
  {
   "cell_type": "code",
   "execution_count": null,
   "metadata": {
    "collapsed": true
   },
   "outputs": [],
   "source": []
  },
  {
   "cell_type": "code",
   "execution_count": 2,
   "metadata": {
    "collapsed": false
   },
   "outputs": [
    {
     "data": {
      "text/plain": [
       "['I',\n",
       " 'had',\n",
       " 'seen',\n",
       " 'little',\n",
       " 'of',\n",
       " 'Holmes',\n",
       " 'lately.',\n",
       " 'My',\n",
       " 'marriage',\n",
       " 'had',\n",
       " 'drifted',\n",
       " 'us',\n",
       " 'away',\n",
       " 'from',\n",
       " 'each',\n",
       " 'other.',\n",
       " 'My',\n",
       " 'own',\n",
       " 'complete',\n",
       " 'happiness,',\n",
       " 'and',\n",
       " 'the',\n",
       " 'home-centred',\n",
       " 'interests',\n",
       " 'which',\n",
       " 'rise',\n",
       " 'up',\n",
       " 'around',\n",
       " 'the',\n",
       " 'man',\n",
       " 'who',\n",
       " 'first',\n",
       " 'finds',\n",
       " 'himself',\n",
       " 'master',\n",
       " 'of',\n",
       " 'his',\n",
       " 'own',\n",
       " 'establishment,',\n",
       " 'were',\n",
       " 'sufficient',\n",
       " 'to',\n",
       " 'absorb',\n",
       " 'all',\n",
       " 'my',\n",
       " 'attention,',\n",
       " 'while',\n",
       " 'Holmes,',\n",
       " 'who',\n",
       " 'loathed',\n",
       " 'every',\n",
       " 'form',\n",
       " 'of',\n",
       " 'society',\n",
       " 'with',\n",
       " 'his',\n",
       " 'whole',\n",
       " 'Bohemian',\n",
       " 'soul,',\n",
       " 'remained',\n",
       " 'in',\n",
       " 'our',\n",
       " 'lodgings',\n",
       " 'in',\n",
       " 'Baker',\n",
       " 'Street,',\n",
       " 'buried',\n",
       " 'among',\n",
       " 'his',\n",
       " 'old',\n",
       " 'books,',\n",
       " 'and',\n",
       " 'alternating',\n",
       " 'from',\n",
       " 'week',\n",
       " 'to',\n",
       " 'week',\n",
       " 'between',\n",
       " 'cocaine',\n",
       " 'and',\n",
       " 'ambition,',\n",
       " 'the',\n",
       " 'drowsiness',\n",
       " 'of',\n",
       " 'the',\n",
       " 'drug,',\n",
       " 'and',\n",
       " 'the',\n",
       " 'fierce',\n",
       " 'energy',\n",
       " 'of',\n",
       " 'his',\n",
       " 'own',\n",
       " 'keen',\n",
       " 'nature.',\n",
       " 'He',\n",
       " 'was',\n",
       " 'still,',\n",
       " 'as',\n",
       " 'ever,',\n",
       " 'deeply',\n",
       " 'attracted',\n",
       " 'by',\n",
       " 'the',\n",
       " 'study',\n",
       " 'of',\n",
       " 'crime,',\n",
       " 'and',\n",
       " 'occupied',\n",
       " 'his',\n",
       " 'immense',\n",
       " 'faculties',\n",
       " 'and',\n",
       " 'extraordinary',\n",
       " 'powers',\n",
       " 'of',\n",
       " 'observation',\n",
       " 'in',\n",
       " 'following',\n",
       " 'out',\n",
       " 'those',\n",
       " 'clues,',\n",
       " 'and',\n",
       " 'clearing',\n",
       " 'up',\n",
       " 'those',\n",
       " 'mysteries',\n",
       " 'which',\n",
       " 'had',\n",
       " 'been',\n",
       " 'abandoned',\n",
       " 'as',\n",
       " 'hopeless',\n",
       " 'by',\n",
       " 'the',\n",
       " 'official',\n",
       " 'police.',\n",
       " 'From',\n",
       " 'time',\n",
       " 'to',\n",
       " 'time',\n",
       " 'I',\n",
       " 'heard',\n",
       " 'some',\n",
       " 'vague',\n",
       " 'account',\n",
       " 'of',\n",
       " 'his',\n",
       " 'doings:',\n",
       " 'of',\n",
       " 'his',\n",
       " 'summons',\n",
       " 'to',\n",
       " 'Odessa',\n",
       " 'in',\n",
       " 'the',\n",
       " 'case',\n",
       " 'of',\n",
       " 'the',\n",
       " 'Trepoff',\n",
       " 'murder,',\n",
       " 'of',\n",
       " 'his',\n",
       " 'clearing',\n",
       " 'up',\n",
       " 'of',\n",
       " 'the',\n",
       " 'singular',\n",
       " 'tragedy',\n",
       " 'of',\n",
       " 'the',\n",
       " 'Atkinson',\n",
       " 'brothers',\n",
       " 'at',\n",
       " 'Trincomalee,',\n",
       " 'and',\n",
       " 'finally',\n",
       " 'of',\n",
       " 'the',\n",
       " 'mission',\n",
       " 'which',\n",
       " 'he',\n",
       " 'had',\n",
       " 'accomplished',\n",
       " 'so',\n",
       " 'delicately',\n",
       " 'and',\n",
       " 'successfully',\n",
       " 'for',\n",
       " 'the',\n",
       " 'reigning',\n",
       " 'family',\n",
       " 'of',\n",
       " 'Holland.',\n",
       " 'Beyond',\n",
       " 'these',\n",
       " 'signs',\n",
       " 'of',\n",
       " 'his',\n",
       " 'activity,',\n",
       " 'however,',\n",
       " 'which',\n",
       " 'I',\n",
       " 'merely',\n",
       " 'shared',\n",
       " 'with',\n",
       " 'all',\n",
       " 'the',\n",
       " 'readers',\n",
       " 'of',\n",
       " 'the',\n",
       " 'daily',\n",
       " 'press,',\n",
       " 'I',\n",
       " 'knew',\n",
       " 'little',\n",
       " 'of',\n",
       " 'my',\n",
       " 'former',\n",
       " 'friend',\n",
       " 'and',\n",
       " 'companion.']"
      ]
     },
     "execution_count": 2,
     "metadata": {},
     "output_type": "execute_result"
    }
   ],
   "source": [
    "words = paragraph.split()\n",
    "words"
   ]
  },
  {
   "cell_type": "code",
   "execution_count": null,
   "metadata": {
    "collapsed": true
   },
   "outputs": [],
   "source": []
  },
  {
   "cell_type": "code",
   "execution_count": null,
   "metadata": {
    "collapsed": false
   },
   "outputs": [],
   "source": [
    "freq = {}\n",
    "freq['harry'] = 67\n",
    "freq"
   ]
  },
  {
   "cell_type": "code",
   "execution_count": null,
   "metadata": {
    "collapsed": true
   },
   "outputs": [],
   "source": []
  },
  {
   "cell_type": "code",
   "execution_count": 3,
   "metadata": {
    "collapsed": false,
    "scrolled": false
   },
   "outputs": [
    {
     "name": "stdout",
     "output_type": "stream",
     "text": [
      "0 I\n",
      "1 had\n",
      "2 seen\n",
      "3 little\n",
      "4 of\n",
      "5 Holmes\n",
      "6 lately.\n",
      "7 My\n",
      "8 marriage\n",
      "9 had\n",
      "10 drifted\n",
      "11 us\n",
      "12 away\n",
      "13 from\n",
      "14 each\n",
      "15 other.\n",
      "16 My\n",
      "17 own\n",
      "18 complete\n",
      "19 happiness,\n",
      "20 and\n",
      "21 the\n",
      "22 home-centred\n",
      "23 interests\n",
      "24 which\n",
      "25 rise\n",
      "26 up\n",
      "27 around\n",
      "28 the\n",
      "29 man\n",
      "30 who\n",
      "31 first\n",
      "32 finds\n",
      "33 himself\n",
      "34 master\n",
      "35 of\n",
      "36 his\n",
      "37 own\n",
      "38 establishment,\n",
      "39 were\n",
      "40 sufficient\n",
      "41 to\n",
      "42 absorb\n",
      "43 all\n",
      "44 my\n",
      "45 attention,\n",
      "46 while\n",
      "47 Holmes,\n",
      "48 who\n",
      "49 loathed\n",
      "50 every\n",
      "51 form\n",
      "52 of\n",
      "53 society\n",
      "54 with\n",
      "55 his\n",
      "56 whole\n",
      "57 Bohemian\n",
      "58 soul,\n",
      "59 remained\n",
      "60 in\n",
      "61 our\n",
      "62 lodgings\n",
      "63 in\n",
      "64 Baker\n",
      "65 Street,\n",
      "66 buried\n",
      "67 among\n",
      "68 his\n",
      "69 old\n",
      "70 books,\n",
      "71 and\n",
      "72 alternating\n",
      "73 from\n",
      "74 week\n",
      "75 to\n",
      "76 week\n",
      "77 between\n",
      "78 cocaine\n",
      "79 and\n",
      "80 ambition,\n",
      "81 the\n",
      "82 drowsiness\n",
      "83 of\n",
      "84 the\n",
      "85 drug,\n",
      "86 and\n",
      "87 the\n",
      "88 fierce\n",
      "89 energy\n",
      "90 of\n",
      "91 his\n",
      "92 own\n",
      "93 keen\n",
      "94 nature.\n",
      "95 He\n",
      "96 was\n",
      "97 still,\n",
      "98 as\n",
      "99 ever,\n",
      "100 deeply\n",
      "101 attracted\n",
      "102 by\n",
      "103 the\n",
      "104 study\n",
      "105 of\n",
      "106 crime,\n",
      "107 and\n",
      "108 occupied\n",
      "109 his\n",
      "110 immense\n",
      "111 faculties\n",
      "112 and\n",
      "113 extraordinary\n",
      "114 powers\n",
      "115 of\n",
      "116 observation\n",
      "117 in\n",
      "118 following\n",
      "119 out\n",
      "120 those\n",
      "121 clues,\n",
      "122 and\n",
      "123 clearing\n",
      "124 up\n",
      "125 those\n",
      "126 mysteries\n",
      "127 which\n",
      "128 had\n",
      "129 been\n",
      "130 abandoned\n",
      "131 as\n",
      "132 hopeless\n",
      "133 by\n",
      "134 the\n",
      "135 official\n",
      "136 police.\n",
      "137 From\n",
      "138 time\n",
      "139 to\n",
      "140 time\n",
      "141 I\n",
      "142 heard\n",
      "143 some\n",
      "144 vague\n",
      "145 account\n",
      "146 of\n",
      "147 his\n",
      "148 doings:\n",
      "149 of\n",
      "150 his\n",
      "151 summons\n",
      "152 to\n",
      "153 Odessa\n",
      "154 in\n",
      "155 the\n",
      "156 case\n",
      "157 of\n",
      "158 the\n",
      "159 Trepoff\n",
      "160 murder,\n",
      "161 of\n",
      "162 his\n",
      "163 clearing\n",
      "164 up\n",
      "165 of\n",
      "166 the\n",
      "167 singular\n",
      "168 tragedy\n",
      "169 of\n",
      "170 the\n",
      "171 Atkinson\n",
      "172 brothers\n",
      "173 at\n",
      "174 Trincomalee,\n",
      "175 and\n",
      "176 finally\n",
      "177 of\n",
      "178 the\n",
      "179 mission\n",
      "180 which\n",
      "181 he\n",
      "182 had\n",
      "183 accomplished\n",
      "184 so\n",
      "185 delicately\n",
      "186 and\n",
      "187 successfully\n",
      "188 for\n",
      "189 the\n",
      "190 reigning\n",
      "191 family\n",
      "192 of\n",
      "193 Holland.\n",
      "194 Beyond\n",
      "195 these\n",
      "196 signs\n",
      "197 of\n",
      "198 his\n",
      "199 activity,\n",
      "200 however,\n",
      "201 which\n",
      "202 I\n",
      "203 merely\n",
      "204 shared\n",
      "205 with\n",
      "206 all\n",
      "207 the\n",
      "208 readers\n",
      "209 of\n",
      "210 the\n",
      "211 daily\n",
      "212 press,\n",
      "213 I\n",
      "214 knew\n",
      "215 little\n",
      "216 of\n",
      "217 my\n",
      "218 former\n",
      "219 friend\n",
      "220 and\n",
      "221 companion.\n"
     ]
    }
   ],
   "source": [
    "index = 0\n",
    "while index < len(words):\n",
    "    print (index,words[index])\n",
    "    index += 1"
   ]
  },
  {
   "cell_type": "code",
   "execution_count": 19,
   "metadata": {
    "collapsed": false
   },
   "outputs": [],
   "source": [
    "names = ['harry','ron','hermaine']\n",
    "\n"
   ]
  },
  {
   "cell_type": "code",
   "execution_count": 20,
   "metadata": {
    "collapsed": false
   },
   "outputs": [
    {
     "data": {
      "text/plain": [
       "['neville', 'ron', 'hermaine']"
      ]
     },
     "execution_count": 20,
     "metadata": {},
     "output_type": "execute_result"
    }
   ],
   "source": [
    "names[0]='neville'\n",
    "names"
   ]
  },
  {
   "cell_type": "code",
   "execution_count": 22,
   "metadata": {
    "collapsed": true
   },
   "outputs": [],
   "source": [
    "name = 'ashmita'"
   ]
  },
  {
   "cell_type": "code",
   "execution_count": 23,
   "metadata": {
    "collapsed": false
   },
   "outputs": [
    {
     "data": {
      "text/plain": [
       "'a'"
      ]
     },
     "execution_count": 23,
     "metadata": {},
     "output_type": "execute_result"
    }
   ],
   "source": [
    "name[0]"
   ]
  },
  {
   "cell_type": "code",
   "execution_count": 24,
   "metadata": {
    "collapsed": false
   },
   "outputs": [
    {
     "data": {
      "text/plain": [
       "['neville', 'ron', 'hermaine']"
      ]
     },
     "execution_count": 24,
     "metadata": {},
     "output_type": "execute_result"
    }
   ],
   "source": [
    "names"
   ]
  },
  {
   "cell_type": "code",
   "execution_count": 26,
   "metadata": {
    "collapsed": false
   },
   "outputs": [
    {
     "ename": "TypeError",
     "evalue": "'str' object does not support item assignment",
     "output_type": "error",
     "traceback": [
      "\u001b[0;31m---------------------------------------------------------------------------\u001b[0m",
      "\u001b[0;31mTypeError\u001b[0m                                 Traceback (most recent call last)",
      "\u001b[0;32m<ipython-input-26-50378a755358>\u001b[0m in \u001b[0;36m<module>\u001b[0;34m()\u001b[0m\n\u001b[0;32m----> 1\u001b[0;31m \u001b[0mnames\u001b[0m\u001b[0;34m[\u001b[0m\u001b[0;36m1\u001b[0m\u001b[0;34m]\u001b[0m\u001b[0;34m[\u001b[0m\u001b[0;36m0\u001b[0m\u001b[0;34m]\u001b[0m \u001b[0;34m=\u001b[0m \u001b[0;34m'j'\u001b[0m\u001b[0;34m\u001b[0m\u001b[0m\n\u001b[0m",
      "\u001b[0;31mTypeError\u001b[0m: 'str' object does not support item assignment"
     ]
    }
   ],
   "source": [
    "names[1][0] = 'j'"
   ]
  },
  {
   "cell_type": "code",
   "execution_count": null,
   "metadata": {
    "collapsed": true
   },
   "outputs": [],
   "source": [
    "String are immutable but list are mutable\n"
   ]
  },
  {
   "cell_type": "code",
   "execution_count": 4,
   "metadata": {
    "collapsed": false
   },
   "outputs": [
    {
     "name": "stdout",
     "output_type": "stream",
     "text": [
      "{'i': 0, 'had': 0, 'seen': 0, 'little': 0, 'of': 0, 'holmes': 0, 'lately.': 0, 'my': 0, 'marriage': 0, 'drifted': 0, 'us': 0, 'away': 0, 'from': 0, 'each': 0, 'other.': 0, 'own': 0, 'complete': 0, 'happiness,': 0, 'and': 0, 'the': 0, 'home-centred': 0, 'interests': 0, 'which': 0, 'rise': 0, 'up': 0, 'around': 0, 'man': 0, 'who': 0, 'first': 0, 'finds': 0, 'himself': 0, 'master': 0, 'his': 0, 'establishment,': 0, 'were': 0, 'sufficient': 0, 'to': 0, 'absorb': 0, 'all': 0, 'attention,': 0, 'while': 0, 'holmes,': 0, 'loathed': 0, 'every': 0, 'form': 0, 'society': 0, 'with': 0, 'whole': 0, 'bohemian': 0, 'soul,': 0, 'remained': 0, 'in': 0, 'our': 0, 'lodgings': 0, 'baker': 0, 'street,': 0, 'buried': 0, 'among': 0, 'old': 0, 'books,': 0, 'alternating': 0, 'week': 0, 'between': 0, 'cocaine': 0, 'ambition,': 0, 'drowsiness': 0, 'drug,': 0, 'fierce': 0, 'energy': 0, 'keen': 0, 'nature.': 0, 'he': 0, 'was': 0, 'still,': 0, 'as': 0, 'ever,': 0, 'deeply': 0, 'attracted': 0, 'by': 0, 'study': 0, 'crime,': 0, 'occupied': 0, 'immense': 0, 'faculties': 0, 'extraordinary': 0, 'powers': 0, 'observation': 0, 'following': 0, 'out': 0, 'those': 0, 'clues,': 0, 'clearing': 0, 'mysteries': 0, 'been': 0, 'abandoned': 0, 'hopeless': 0, 'official': 0, 'police.': 0, 'time': 0, 'heard': 0, 'some': 0, 'vague': 0, 'account': 0, 'doings:': 0, 'summons': 0, 'odessa': 0, 'case': 0, 'trepoff': 0, 'murder,': 0, 'singular': 0, 'tragedy': 0, 'atkinson': 0, 'brothers': 0, 'at': 0, 'trincomalee,': 0, 'finally': 0, 'mission': 0, 'accomplished': 0, 'so': 0, 'delicately': 0, 'successfully': 0, 'for': 0, 'reigning': 0, 'family': 0, 'holland.': 0, 'beyond': 0, 'these': 0, 'signs': 0, 'activity,': 0, 'however,': 0, 'merely': 0, 'shared': 0, 'readers': 0, 'daily': 0, 'press,': 0, 'knew': 0, 'former': 0, 'friend': 0, 'companion.': 0}\n"
     ]
    }
   ],
   "source": [
    "frequency = {}\n",
    "index = 0\n",
    "while index < len(words):\n",
    "    word = words[index].lower()\n",
    "    #print (word)\n",
    "    frequency[word] = 0\n",
    "    index += 1\n",
    "print (frequency)"
   ]
  },
  {
   "cell_type": "code",
   "execution_count": 28,
   "metadata": {
    "collapsed": true
   },
   "outputs": [],
   "source": [
    "freq = {\n",
    "    'harry':5\n",
    "}"
   ]
  },
  {
   "cell_type": "code",
   "execution_count": 29,
   "metadata": {
    "collapsed": false
   },
   "outputs": [
    {
     "data": {
      "text/plain": [
       "{'harry': 5}"
      ]
     },
     "execution_count": 29,
     "metadata": {},
     "output_type": "execute_result"
    }
   ],
   "source": [
    "freq"
   ]
  },
  {
   "cell_type": "code",
   "execution_count": 31,
   "metadata": {
    "collapsed": false
   },
   "outputs": [
    {
     "ename": "KeyError",
     "evalue": "0",
     "output_type": "error",
     "traceback": [
      "\u001b[0;31m---------------------------------------------------------------------------\u001b[0m",
      "\u001b[0;31mKeyError\u001b[0m                                  Traceback (most recent call last)",
      "\u001b[0;32m<ipython-input-31-533c3296910f>\u001b[0m in \u001b[0;36m<module>\u001b[0;34m()\u001b[0m\n\u001b[0;32m----> 1\u001b[0;31m \u001b[0mfreq\u001b[0m\u001b[0;34m[\u001b[0m\u001b[0;36m0\u001b[0m\u001b[0;34m]\u001b[0m\u001b[0;34m\u001b[0m\u001b[0m\n\u001b[0m",
      "\u001b[0;31mKeyError\u001b[0m: 0"
     ]
    }
   ],
   "source": [
    "freq[0]"
   ]
  },
  {
   "cell_type": "markdown",
   "metadata": {},
   "source": [
    "# dict cannot be accesed with index as dict doesnot store sequencially , dict is accessed with keys\n",
    "\n"
   ]
  },
  {
   "cell_type": "code",
   "execution_count": 5,
   "metadata": {
    "collapsed": false
   },
   "outputs": [
    {
     "name": "stdout",
     "output_type": "stream",
     "text": [
      "{'i': 0, 'had': 0, 'seen': 0, 'little': 0, 'of': 0, 'holmes': 0, 'lately': 0, 'my': 0, 'marriage': 0, 'drifted': 0, 'us': 0, 'away': 0, 'from': 0, 'each': 0, 'other': 0, 'own': 0, 'complete': 0, 'happiness': 0, 'and': 0, 'the': 0, 'home-centred': 0, 'interests': 0, 'which': 0, 'rise': 0, 'up': 0, 'around': 0, 'man': 0, 'who': 0, 'first': 0, 'finds': 0, 'himself': 0, 'master': 0, 'his': 0, 'establishment': 0, 'were': 0, 'sufficient': 0, 'to': 0, 'absorb': 0, 'all': 0, 'attention': 0, 'while': 0, 'loathed': 0, 'every': 0, 'form': 0, 'society': 0, 'with': 0, 'whole': 0, 'bohemian': 0, 'soul': 0, 'remained': 0, 'in': 0, 'our': 0, 'lodgings': 0, 'baker': 0, 'street': 0, 'buried': 0, 'among': 0, 'old': 0, 'books': 0, 'alternating': 0, 'week': 0, 'between': 0, 'cocaine': 0, 'ambition': 0, 'drowsiness': 0, 'drug': 0, 'fierce': 0, 'energy': 0, 'keen': 0, 'nature': 0, 'he': 0, 'was': 0, 'still': 0, 'as': 0, 'ever': 0, 'deeply': 0, 'attracted': 0, 'by': 0, 'study': 0, 'crime': 0, 'occupied': 0, 'immense': 0, 'faculties': 0, 'extraordinary': 0, 'powers': 0, 'observation': 0, 'following': 0, 'out': 0, 'those': 0, 'clues': 0, 'clearing': 0, 'mysteries': 0, 'been': 0, 'abandoned': 0, 'hopeless': 0, 'official': 0, 'police': 0, 'time': 0, 'heard': 0, 'some': 0, 'vague': 0, 'account': 0, 'doings:': 0, 'summons': 0, 'odessa': 0, 'case': 0, 'trepoff': 0, 'murder': 0, 'singular': 0, 'tragedy': 0, 'atkinson': 0, 'brothers': 0, 'at': 0, 'trincomalee': 0, 'finally': 0, 'mission': 0, 'accomplished': 0, 'so': 0, 'delicately': 0, 'successfully': 0, 'for': 0, 'reigning': 0, 'family': 0, 'holland': 0, 'beyond': 0, 'these': 0, 'signs': 0, 'activity': 0, 'however': 0, 'merely': 0, 'shared': 0, 'readers': 0, 'daily': 0, 'press': 0, 'knew': 0, 'former': 0, 'friend': 0, 'companion': 0}\n"
     ]
    }
   ],
   "source": [
    "frequency = {}\n",
    "index = 0\n",
    "while index < len(words):\n",
    "    word = words[index].strip('.').strip(',').lower()\n",
    "    #word = words[index]\n",
    "    #word = word.strip('.')\n",
    "    #word = word.strip(',')\n",
    "    #word = word.lower()\n",
    "    frequency[word] = 0\n",
    "    index +=1\n",
    "print (frequency)"
   ]
  },
  {
   "cell_type": "code",
   "execution_count": 3,
   "metadata": {
    "collapsed": false
   },
   "outputs": [
    {
     "name": "stdout",
     "output_type": "stream",
     "text": [
      "{'i': 4, 'had': 4, 'seen': 1, 'little': 2, 'of': 18, 'holmes': 2, 'lately': 1, 'my': 4, 'marriage': 1, 'drifted': 1, 'us': 1, 'away': 1, 'from': 3, 'each': 1, 'other': 1, 'own': 3, 'complete': 1, 'happiness': 1, 'and': 10, 'the': 15, 'home-centred': 1, 'interests': 1, 'which': 4, 'rise': 1, 'up': 3, 'around': 1, 'man': 1, 'who': 2, 'first': 1, 'finds': 1, 'himself': 1, 'master': 1, 'his': 9, 'establishment': 1, 'were': 1, 'sufficient': 1, 'to': 4, 'absorb': 1, 'all': 2, 'attention': 1, 'while': 1, 'loathed': 1, 'every': 1, 'form': 1, 'society': 1, 'with': 2, 'whole': 1, 'bohemian': 1, 'soul': 1, 'remained': 1, 'in': 4, 'our': 1, 'lodgings': 1, 'baker': 1, 'street': 1, 'buried': 1, 'among': 1, 'old': 1, 'books': 1, 'alternating': 1, 'week': 2, 'between': 1, 'cocaine': 1, 'ambition': 1, 'drowsiness': 1, 'drug': 1, 'fierce': 1, 'energy': 1, 'keen': 1, 'nature': 1, 'he': 2, 'was': 1, 'still': 1, 'as': 2, 'ever': 1, 'deeply': 1, 'attracted': 1, 'by': 2, 'study': 1, 'crime': 1, 'occupied': 1, 'immense': 1, 'faculties': 1, 'extraordinary': 1, 'powers': 1, 'observation': 1, 'following': 1, 'out': 1, 'those': 2, 'clues': 1, 'clearing': 2, 'mysteries': 1, 'been': 1, 'abandoned': 1, 'hopeless': 1, 'official': 1, 'police': 1, 'time': 2, 'heard': 1, 'some': 1, 'vague': 1, 'account': 1, 'doings:': 1, 'summons': 1, 'odessa': 1, 'case': 1, 'trepoff': 1, 'murder': 1, 'singular': 1, 'tragedy': 1, 'atkinson': 1, 'brothers': 1, 'at': 1, 'trincomalee': 1, 'finally': 1, 'mission': 1, 'accomplished': 1, 'so': 1, 'delicately': 1, 'successfully': 1, 'for': 1, 'reigning': 1, 'family': 1, 'holland': 1, 'beyond': 1, 'these': 1, 'signs': 1, 'activity': 1, 'however': 1, 'merely': 1, 'shared': 1, 'readers': 1, 'daily': 1, 'press': 1, 'knew': 1, 'former': 1, 'friend': 1, 'companion': 1}\n"
     ]
    }
   ],
   "source": [
    "frequency = {}\n",
    "index = 0\n",
    "while index < len(words):\n",
    "    word = words[index].strip('.').strip(',').lower()\n",
    "    if word in frequency:\n",
    "        frequency[word] +=1\n",
    "    else:\n",
    "        frequency[word] = 1\n",
    "    index += 1\n",
    "print (frequency)\n",
    "    "
   ]
  },
  {
   "cell_type": "code",
   "execution_count": 6,
   "metadata": {
    "collapsed": false
   },
   "outputs": [
    {
     "name": "stdout",
     "output_type": "stream",
     "text": [
      "paragraph has 4\"i\"\n",
      "paragraph has 4\"had\"\n",
      "paragraph has 1\"seen\"\n",
      "paragraph has 2\"little\"\n",
      "paragraph has 18\"of\"\n",
      "paragraph has 2\"holmes\"\n",
      "paragraph has 1\"lately\"\n",
      "paragraph has 4\"my\"\n",
      "paragraph has 1\"marriage\"\n",
      "paragraph has 1\"drifted\"\n",
      "paragraph has 1\"us\"\n",
      "paragraph has 1\"away\"\n",
      "paragraph has 3\"from\"\n",
      "paragraph has 1\"each\"\n",
      "paragraph has 1\"other\"\n",
      "paragraph has 3\"own\"\n",
      "paragraph has 1\"complete\"\n",
      "paragraph has 1\"happiness\"\n",
      "paragraph has 10\"and\"\n",
      "paragraph has 15\"the\"\n",
      "paragraph has 1\"home-centred\"\n",
      "paragraph has 1\"interests\"\n",
      "paragraph has 4\"which\"\n",
      "paragraph has 1\"rise\"\n",
      "paragraph has 3\"up\"\n",
      "paragraph has 1\"around\"\n",
      "paragraph has 1\"man\"\n",
      "paragraph has 2\"who\"\n",
      "paragraph has 1\"first\"\n",
      "paragraph has 1\"finds\"\n",
      "paragraph has 1\"himself\"\n",
      "paragraph has 1\"master\"\n",
      "paragraph has 9\"his\"\n",
      "paragraph has 1\"establishment\"\n",
      "paragraph has 1\"were\"\n",
      "paragraph has 1\"sufficient\"\n",
      "paragraph has 4\"to\"\n",
      "paragraph has 1\"absorb\"\n",
      "paragraph has 2\"all\"\n",
      "paragraph has 1\"attention\"\n",
      "paragraph has 1\"while\"\n",
      "paragraph has 1\"loathed\"\n",
      "paragraph has 1\"every\"\n",
      "paragraph has 1\"form\"\n",
      "paragraph has 1\"society\"\n",
      "paragraph has 2\"with\"\n",
      "paragraph has 1\"whole\"\n",
      "paragraph has 1\"bohemian\"\n",
      "paragraph has 1\"soul\"\n",
      "paragraph has 1\"remained\"\n",
      "paragraph has 4\"in\"\n",
      "paragraph has 1\"our\"\n",
      "paragraph has 1\"lodgings\"\n",
      "paragraph has 1\"baker\"\n",
      "paragraph has 1\"street\"\n",
      "paragraph has 1\"buried\"\n",
      "paragraph has 1\"among\"\n",
      "paragraph has 1\"old\"\n",
      "paragraph has 1\"books\"\n",
      "paragraph has 1\"alternating\"\n",
      "paragraph has 2\"week\"\n",
      "paragraph has 1\"between\"\n",
      "paragraph has 1\"cocaine\"\n",
      "paragraph has 1\"ambition\"\n",
      "paragraph has 1\"drowsiness\"\n",
      "paragraph has 1\"drug\"\n",
      "paragraph has 1\"fierce\"\n",
      "paragraph has 1\"energy\"\n",
      "paragraph has 1\"keen\"\n",
      "paragraph has 1\"nature\"\n",
      "paragraph has 2\"he\"\n",
      "paragraph has 1\"was\"\n",
      "paragraph has 1\"still\"\n",
      "paragraph has 2\"as\"\n",
      "paragraph has 1\"ever\"\n",
      "paragraph has 1\"deeply\"\n",
      "paragraph has 1\"attracted\"\n",
      "paragraph has 2\"by\"\n",
      "paragraph has 1\"study\"\n",
      "paragraph has 1\"crime\"\n",
      "paragraph has 1\"occupied\"\n",
      "paragraph has 1\"immense\"\n",
      "paragraph has 1\"faculties\"\n",
      "paragraph has 1\"extraordinary\"\n",
      "paragraph has 1\"powers\"\n",
      "paragraph has 1\"observation\"\n",
      "paragraph has 1\"following\"\n",
      "paragraph has 1\"out\"\n",
      "paragraph has 2\"those\"\n",
      "paragraph has 1\"clues\"\n",
      "paragraph has 2\"clearing\"\n",
      "paragraph has 1\"mysteries\"\n",
      "paragraph has 1\"been\"\n",
      "paragraph has 1\"abandoned\"\n",
      "paragraph has 1\"hopeless\"\n",
      "paragraph has 1\"official\"\n",
      "paragraph has 1\"police\"\n",
      "paragraph has 2\"time\"\n",
      "paragraph has 1\"heard\"\n",
      "paragraph has 1\"some\"\n",
      "paragraph has 1\"vague\"\n",
      "paragraph has 1\"account\"\n",
      "paragraph has 1\"doings:\"\n",
      "paragraph has 1\"summons\"\n",
      "paragraph has 1\"odessa\"\n",
      "paragraph has 1\"case\"\n",
      "paragraph has 1\"trepoff\"\n",
      "paragraph has 1\"murder\"\n",
      "paragraph has 1\"singular\"\n",
      "paragraph has 1\"tragedy\"\n",
      "paragraph has 1\"atkinson\"\n",
      "paragraph has 1\"brothers\"\n",
      "paragraph has 1\"at\"\n",
      "paragraph has 1\"trincomalee\"\n",
      "paragraph has 1\"finally\"\n",
      "paragraph has 1\"mission\"\n",
      "paragraph has 1\"accomplished\"\n",
      "paragraph has 1\"so\"\n",
      "paragraph has 1\"delicately\"\n",
      "paragraph has 1\"successfully\"\n",
      "paragraph has 1\"for\"\n",
      "paragraph has 1\"reigning\"\n",
      "paragraph has 1\"family\"\n",
      "paragraph has 1\"holland\"\n",
      "paragraph has 1\"beyond\"\n",
      "paragraph has 1\"these\"\n",
      "paragraph has 1\"signs\"\n",
      "paragraph has 1\"activity\"\n",
      "paragraph has 1\"however\"\n",
      "paragraph has 1\"merely\"\n",
      "paragraph has 1\"shared\"\n",
      "paragraph has 1\"readers\"\n",
      "paragraph has 1\"daily\"\n",
      "paragraph has 1\"press\"\n",
      "paragraph has 1\"knew\"\n",
      "paragraph has 1\"former\"\n",
      "paragraph has 1\"friend\"\n",
      "paragraph has 1\"companion\"\n"
     ]
    }
   ],
   "source": [
    "for item in frequency:\n",
    "    print ('paragraph has {}\"{}\"'.format(frequency[item],item))"
   ]
  },
  {
   "cell_type": "code",
   "execution_count": null,
   "metadata": {
    "collapsed": true
   },
   "outputs": [],
   "source": []
  },
  {
   "cell_type": "code",
   "execution_count": 35,
   "metadata": {
    "collapsed": false
   },
   "outputs": [],
   "source": [
    "nfreq = {'A':6,'B':8}\n"
   ]
  },
  {
   "cell_type": "code",
   "execution_count": 36,
   "metadata": {
    "collapsed": false
   },
   "outputs": [
    {
     "data": {
      "text/plain": [
       "True"
      ]
     },
     "execution_count": 36,
     "metadata": {},
     "output_type": "execute_result"
    }
   ],
   "source": [
    "'B' in nfreq"
   ]
  },
  {
   "cell_type": "code",
   "execution_count": null,
   "metadata": {
    "collapsed": true
   },
   "outputs": [],
   "source": []
  }
 ],
 "metadata": {
  "kernelspec": {
   "display_name": "Python 3",
   "language": "python",
   "name": "python3"
  },
  "language_info": {
   "codemirror_mode": {
    "name": "ipython",
    "version": 3
   },
   "file_extension": ".py",
   "mimetype": "text/x-python",
   "name": "python",
   "nbconvert_exporter": "python",
   "pygments_lexer": "ipython3",
   "version": "3.6.0"
  }
 },
 "nbformat": 4,
 "nbformat_minor": 2
}
